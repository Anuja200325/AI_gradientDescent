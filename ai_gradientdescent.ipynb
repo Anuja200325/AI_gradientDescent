{
  "nbformat": 4,
  "nbformat_minor": 0,
  "metadata": {
    "colab": {
      "provenance": [],
      "authorship_tag": "ABX9TyOgpoN/NofGlXqONWYtku6V"
    },
    "kernelspec": {
      "name": "python3",
      "display_name": "Python 3"
    },
    "language_info": {
      "name": "python"
    }
  },
  "cells": [
    {
      "cell_type": "code",
      "execution_count": 7,
      "metadata": {
        "id": "DF0YkCNipAze"
      },
      "outputs": [],
      "source": [
        "import numpy as np\n"
      ]
    },
    {
      "cell_type": "code",
      "source": [
        "a = float(input(\"Enter the coefficent - a : \"))\n",
        "b = float(input(\"Enter the coefficent - b : \"))\n",
        "c = float(input(\"Enter the coefficent - c : \"))\n",
        "d = float(input(\"Enter the coefficent - d : \"))"
      ],
      "metadata": {
        "colab": {
          "base_uri": "https://localhost:8080/"
        },
        "id": "C7ccCWsqpE5z",
        "outputId": "d0423827-4eff-4062-acd0-2ac0501ea1dc"
      },
      "execution_count": 8,
      "outputs": [
        {
          "name": "stdout",
          "output_type": "stream",
          "text": [
            "Enter the coefficent - a : 3\n",
            "Enter the coefficent - b : 2\n",
            "Enter the coefficent - c : 1\n",
            "Enter the coefficent - d : 6\n"
          ]
        }
      ]
    },
    {
      "cell_type": "code",
      "source": [
        "x = np.random.rand()\n",
        "\n",
        "learning_rate = .01\n",
        "epochs =100"
      ],
      "metadata": {
        "id": "SUTuZNT2pLvC"
      },
      "execution_count": 9,
      "outputs": []
    },
    {
      "cell_type": "code",
      "source": [
        "for epoch in range(epochs):\n",
        "  value = a*x**3 + b*x**2 + d*x +c\n",
        "  gradient  = 3*a *x**2 + 2*b*x+c\n",
        "\n",
        "  if gradient < -1:\n",
        "    gradient =0\n",
        "    x -=  learning_rate *gradient"
      ],
      "metadata": {
        "id": "GNUgWmJ0pbDT"
      },
      "execution_count": 10,
      "outputs": []
    },
    {
      "cell_type": "code",
      "source": [
        "print(f\"The equation is: {a}x^3 + {b}x^2 + {c}x + {d} = 0\")"
      ],
      "metadata": {
        "colab": {
          "base_uri": "https://localhost:8080/"
        },
        "id": "uX6SO97ZpeWo",
        "outputId": "fb61e8af-0885-47c3-ecfe-e8f3b0bb4398"
      },
      "execution_count": 11,
      "outputs": [
        {
          "output_type": "stream",
          "name": "stdout",
          "text": [
            "The equation is: 3.0x^3 + 2.0x^2 + 1.0x + 6.0 = 0\n"
          ]
        }
      ]
    },
    {
      "cell_type": "code",
      "source": [
        "\n",
        "print(f\"The solution for x is approx. : {x}\")"
      ],
      "metadata": {
        "colab": {
          "base_uri": "https://localhost:8080/"
        },
        "id": "EBdcTNX9phmV",
        "outputId": "49f3d5cb-aab3-4c81-80af-e902ee1483c2"
      },
      "execution_count": 12,
      "outputs": [
        {
          "output_type": "stream",
          "name": "stdout",
          "text": [
            "The solution for x is approx. : 0.6332852287026616\n"
          ]
        }
      ]
    },
    {
      "cell_type": "code",
      "source": [],
      "metadata": {
        "id": "HYLqRLRLplR-"
      },
      "execution_count": null,
      "outputs": []
    }
  ]
}